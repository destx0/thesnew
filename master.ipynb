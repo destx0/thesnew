{
 "cells": [
  {
   "cell_type": "code",
   "execution_count": 16,
   "metadata": {},
   "outputs": [],
   "source": [
    "import matplotlib.pyplot as plt\n",
    "import networkx as nx\n",
    "import numpy as np\n",
    "from sklearn.datasets import make_blobs, make_circles\n",
    "import random\n",
    "import json\n",
    "import math\n",
    "import time\n",
    "from tabulate import tabulate\n",
    "from math import *\n",
    "from kdtreen import *\n",
    "from utils import *"
   ]
  },
  {
   "cell_type": "code",
   "execution_count": 17,
   "metadata": {},
   "outputs": [],
   "source": [
    "savefile = \"mst_datatest.json\"\n",
    "to_plot = False\n",
    "no_points = 15000\n",
    "no_centres = 2"
   ]
  },
  {
   "cell_type": "code",
   "execution_count": 18,
   "metadata": {},
   "outputs": [],
   "source": [
    "if no_points > 999:\n",
    "    to_plot = False"
   ]
  },
  {
   "cell_type": "code",
   "execution_count": 19,
   "metadata": {},
   "outputs": [
    {
     "name": "stdout",
     "output_type": "stream",
     "text": [
      "15000\n"
     ]
    }
   ],
   "source": [
    "\n",
    "X, Y = make_blobs(n_samples=no_points, centers=no_centres)\n",
    "points = list(set([(x, y) for x, y in X]))\n",
    "# points = list(set([(round(x, 1), round(y, 1)) for x, y in X]))\n",
    "print(len(points))"
   ]
  },
  {
   "cell_type": "code",
   "execution_count": 20,
   "metadata": {},
   "outputs": [],
   "source": [
    "dcran_start_time = time.time()\n",
    "i_neighbors_dict = {}\n",
    "tree = KDTree()\n",
    "G = nx.Graph()"
   ]
  },
  {
   "cell_type": "code",
   "execution_count": 21,
   "metadata": {},
   "outputs": [],
   "source": [
    "def build(points):\n",
    "    global cordmap, i_neighbors_dict, tree, G\n",
    "    tree.root = tree.build(points)\n",
    "    limit_dist = math.ceil(log(len(points)))\n",
    "\n",
    "    G.add_nodes_from(points)\n",
    "    for point in points:\n",
    "        i_neighbors_dict[point] = i_neighbors(tree, point, limit_dist)\n",
    "    print(\"max dis : \" ,limit_dist )\n",
    "    return tree, G"
   ]
  },
  {
   "cell_type": "code",
   "execution_count": 22,
   "metadata": {},
   "outputs": [],
   "source": [
    "def dcran(points):\n",
    "    global cordmap, i_neighbors_dict, tree, G\n",
    "    tree, G = build(points)\n",
    "\n",
    "    for k in range(math.ceil(log(len(points)))):\n",
    "        components = list(nx.connected_components(G))\n",
    "        if len(components) == 1:\n",
    "            break\n",
    "        for component in components:\n",
    "            for pointi in component:\n",
    "                eudis, pointj = i_neighbors_dict[pointi][k]\n",
    "                if pointj in component:\n",
    "                    continue\n",
    "\n",
    "                G.add_edge(pointi, pointj, weight=eudis)\n",
    "    print(len(list(nx.connected_components(G))))"
   ]
  },
  {
   "cell_type": "code",
   "execution_count": 23,
   "metadata": {},
   "outputs": [
    {
     "name": "stdout",
     "output_type": "stream",
     "text": [
      "max dis :  10\n",
      "2\n"
     ]
    }
   ],
   "source": [
    "dcran(points)"
   ]
  },
  {
   "cell_type": "code",
   "execution_count": 24,
   "metadata": {},
   "outputs": [
    {
     "name": "stdout",
     "output_type": "stream",
     "text": [
      "The closest point to the centroid in the component is [-2.42593248  9.65012   ]\n",
      "The closest point to the centroid in the component is [7.89439852 4.05963188]\n"
     ]
    }
   ],
   "source": [
    "import numpy as np\n",
    "from scipy.spatial import distance\n",
    "core_points = []\n",
    "components = list(nx.connected_components(G))\n",
    "for component in components:\n",
    "    # Convert the component to a numpy array for easier manipulation\n",
    "    points = np.array(list(component))\n",
    "\n",
    "    # Calculate the centroid\n",
    "    centroid = points.mean(axis=0)\n",
    "\n",
    "    # Calculate the distance from each point to the centroid\n",
    "    distances = np.linalg.norm(points - centroid, axis=1)\n",
    "\n",
    "    # Find the index of the point with the smallest distance\n",
    "    closest_point_index = np.argmin(distances)\n",
    "\n",
    "    # Get the closest point\n",
    "    closest_point = points[closest_point_index]\n",
    "    core_points.append(closest_point)\n",
    "\n",
    "    print(f\"The closest point to the centroid in the component is {closest_point}\")\n",
    "    \n"
   ]
  },
  {
   "cell_type": "code",
   "execution_count": 25,
   "metadata": {},
   "outputs": [],
   "source": [
    "core_points_x = sorted(enumerate(core_points), key=lambda x: x[1][0])\n",
    "core_points_y = sorted(enumerate(core_points), key=lambda x: x[1][1])\n",
    "tot_dis_x = 0\n",
    "tot_dis_y = 0\n",
    "for i in range(len(core_points_x)-1):\n",
    "    tot_dis_x += distance.euclidean(core_points_x[i][1], core_points_x[i+1][1])\n",
    "    tot_dis_y += distance.euclidean(core_points_y[i][1], core_points_y[i+1][1])\n",
    "\n",
    "if tot_dis_x > tot_dis_y:\n",
    "    core_points = core_points_y\n",
    "else:\n",
    "    core_points = core_points_x"
   ]
  },
  {
   "cell_type": "code",
   "execution_count": 26,
   "metadata": {},
   "outputs": [],
   "source": [
    "mst = nx.minimum_spanning_tree(G, algorithm=\"prim\", weight=\"weight\")"
   ]
  },
  {
   "cell_type": "code",
   "execution_count": null,
   "metadata": {},
   "outputs": [],
   "source": []
  },
  {
   "cell_type": "code",
   "execution_count": 27,
   "metadata": {},
   "outputs": [
    {
     "name": "stdout",
     "output_type": "stream",
     "text": [
      "2.4841277599334717\n"
     ]
    }
   ],
   "source": [
    "dcran_end_time = time.time()\n",
    "dcran_elapsed_time = dcran_end_time - dcran_start_time\n",
    "print(dcran_elapsed_time)"
   ]
  },
  {
   "cell_type": "code",
   "execution_count": 28,
   "metadata": {},
   "outputs": [],
   "source": [
    "stmst_start_time = time.time()"
   ]
  },
  {
   "cell_type": "code",
   "execution_count": 29,
   "metadata": {},
   "outputs": [],
   "source": [
    "\n",
    "\n",
    "\n",
    "def calculate_distance(point1, point2):\n",
    "    return math.sqrt((point2[0] - point1[0]) ** 2 + (point2[1] - point1[1]) ** 2)\n",
    "\n",
    "\n",
    "def create_distance_matrix(points):\n",
    "    n = len(points)\n",
    "    distance_matrix = [[0 for _ in range(n)] for _ in range(n)]\n",
    "    for i in range(n):\n",
    "        for j in range(i + 1, n):\n",
    "            distance = calculate_distance(points[i], points[j])\n",
    "            distance_matrix[i][j] = distance\n",
    "            distance_matrix[j][i] = distance\n",
    "    return distance_matrix\n",
    "\n",
    "\n",
    "def primMST(graph):\n",
    "    num_vertices = len(graph)\n",
    "    key = [float(\"inf\")] * num_vertices\n",
    "    parent = [-1] * num_vertices\n",
    "    mstSet = [False] * num_vertices\n",
    "    key[0] = 0\n",
    "\n",
    "    for cout in range(num_vertices):\n",
    "        u = minKey(key, mstSet)\n",
    "        mstSet[u] = True\n",
    "        for v in range(num_vertices):\n",
    "            if 0 < graph[u][v] < key[v] and mstSet[v] == False:\n",
    "                key[v] = graph[u][v]\n",
    "                parent[v] = u\n",
    "    return parent\n",
    "\n",
    "\n",
    "def minKey(key, mstSet):\n",
    "    min = float(\"inf\")\n",
    "    min_index = -1\n",
    "    for v in range(len(key)):\n",
    "        if key[v] < min and not mstSet[v]:\n",
    "            min, min_index = key[v], v\n",
    "    return min_index\n",
    "\n",
    "\n",
    "# Example list of points\n",
    "\n",
    "# Create the distance matrix\n",
    "distance_matrix = create_distance_matrix(points)\n",
    "\n",
    "# Generate MST using Prim's algorithm\n",
    "mst = primMST(distance_matrix)\n",
    "\n",
    "# Print the edges in the MST\n"
   ]
  },
  {
   "cell_type": "code",
   "execution_count": 30,
   "metadata": {},
   "outputs": [
    {
     "name": "stdout",
     "output_type": "stream",
     "text": [
      "42.994704246520996\n"
     ]
    }
   ],
   "source": [
    "stmst_end_time = time.time()\n",
    "stmst_elapsed_time = stmst_end_time - stmst_start_time\n",
    "print(stmst_elapsed_time)   "
   ]
  }
 ],
 "metadata": {
  "kernelspec": {
   "display_name": "gpy12",
   "language": "python",
   "name": "python3"
  },
  "language_info": {
   "codemirror_mode": {
    "name": "ipython",
    "version": 3
   },
   "file_extension": ".py",
   "mimetype": "text/x-python",
   "name": "python",
   "nbconvert_exporter": "python",
   "pygments_lexer": "ipython3",
   "version": "3.12.2"
  }
 },
 "nbformat": 4,
 "nbformat_minor": 2
}
