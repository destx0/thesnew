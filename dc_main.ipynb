{
 "cells": [
  {
   "cell_type": "code",
   "execution_count": 4,
   "metadata": {},
   "outputs": [],
   "source": [
    "import json\n",
    "import math\n",
    "import random\n",
    "import time\n",
    "from math import *\n",
    "\n",
    "import matplotlib.pyplot as plt\n",
    "import networkx as nx\n",
    "import numpy as np\n",
    "from sklearn.cluster import KMeans\n",
    "from sklearn.datasets import make_blobs, make_circles\n",
    "from tabulate import tabulate\n",
    "\n",
    "from kdtreen import *\n",
    "from utils import *"
   ]
  },
  {
   "cell_type": "code",
   "execution_count": 5,
   "metadata": {},
   "outputs": [],
   "source": [
    "no_points = 100\n",
    "no_centres = 5"
   ]
  },
  {
   "cell_type": "code",
   "execution_count": 6,
   "metadata": {},
   "outputs": [
    {
     "name": "stdout",
     "output_type": "stream",
     "text": [
      "100\n"
     ]
    }
   ],
   "source": [
    "X, Y = make_blobs(n_samples=no_points, centers=no_centres)\n",
    "points = list(set([(x, y) for x, y in X]))\n",
    "# points = list(set([(round(x, 1), round(y, 1)) for x, y in X]))\n",
    "print(len(points))"
   ]
  },
  {
   "cell_type": "code",
   "execution_count": 7,
   "metadata": {},
   "outputs": [],
   "source": [
    "import math\n",
    "\n",
    "\n",
    "def calculate_distance(point1, point2):\n",
    "    return math.sqrt((point2[0] - point1[0]) ** 2 + (point2[1] - point1[1]) ** 2)\n",
    "\n",
    "\n",
    "def create_distance_matrix(points):\n",
    "    n = len(points)\n",
    "    distance_matrix = [[0 for _ in range(n)] for _ in range(n)]\n",
    "    for i in range(n):\n",
    "        for j in range(i + 1, n):\n",
    "            distance = calculate_distance(points[i], points[j])\n",
    "            distance_matrix[i][j] = distance\n",
    "            distance_matrix[j][i] = distance\n",
    "    return distance_matrix\n",
    "\n",
    "\n",
    "def primMST(graph):\n",
    "    num_vertices = len(graph)\n",
    "    key = [float(\"inf\")] * num_vertices\n",
    "    parent = [-1] * num_vertices\n",
    "    mstSet = [False] * num_vertices\n",
    "    key[0] = 0\n",
    "    for cout in range(num_vertices):\n",
    "        u = minKey(key, mstSet)\n",
    "        mstSet[u] = True\n",
    "        for v in range(num_vertices):\n",
    "            if 0 < graph[u][v] < key[v] and not mstSet[v]:\n",
    "                key[v] = graph[u][v]\n",
    "                parent[v] = u\n",
    "    return parent\n",
    "\n",
    "\n",
    "def minKey(key, mstSet):\n",
    "    min_val = float(\"inf\")\n",
    "    min_index = -1\n",
    "    for v in range(len(key)):\n",
    "        if key[v] < min_val and not mstSet[v]:\n",
    "            min_val, min_index = key[v], v\n",
    "    return min_index\n",
    "\n",
    "\n",
    "def get_MST_edges_with_coordinates(points):\n",
    "    distance_matrix = create_distance_matrix(points)\n",
    "    mst_parent = primMST(distance_matrix)\n",
    "    edges = []\n",
    "    for i in range(1, len(points)):\n",
    "        if mst_parent[i] != -1:  # Ensure there's a parent\n",
    "            edge = (points[mst_parent[i]], points[i])\n",
    "            edges.append(edge)\n",
    "    return edges\n"
   ]
  },
  {
   "cell_type": "code",
   "execution_count": 8,
   "metadata": {},
   "outputs": [],
   "source": [
    "savefile = \"mst_datatest.json\"\n",
    "to_plot = False\n",
    "no_points = 10000\n",
    "no_centres = 2"
   ]
  },
  {
   "cell_type": "code",
   "execution_count": 9,
   "metadata": {},
   "outputs": [],
   "source": [
    "if no_points > 999:\n",
    "    to_plot = False"
   ]
  },
  {
   "cell_type": "code",
   "execution_count": 10,
   "metadata": {},
   "outputs": [
    {
     "name": "stdout",
     "output_type": "stream",
     "text": [
      "10000\n"
     ]
    }
   ],
   "source": [
    "X, Y = make_blobs(n_samples=no_points, centers=no_centres)\n",
    "points = list(set([(x, y) for x, y in X]))\n",
    "# points = list(set([(round(x, 1), round(y, 1)) for x, y in X]))\n",
    "print(len(points))"
   ]
  },
  {
   "cell_type": "code",
   "execution_count": 11,
   "metadata": {},
   "outputs": [],
   "source": [
    "dcran_start_time = time.time()\n",
    "i_neighbors_dict = {}\n",
    "tree = KDTree()\n",
    "G = nx.Graph()"
   ]
  },
  {
   "cell_type": "code",
   "execution_count": 12,
   "metadata": {},
   "outputs": [],
   "source": [
    "def build(points):\n",
    "    global cordmap, i_neighbors_dict, tree, G\n",
    "    tree.root = tree.build(points)\n",
    "    limit_dist = math.ceil(log(len(points)))\n",
    "\n",
    "    G.add_nodes_from(points)\n",
    "    for point in points:\n",
    "        i_neighbors_dict[point] = i_neighbors(tree, point, limit_dist)\n",
    "    print(\"max dis : \" ,limit_dist )\n",
    "    return tree, G"
   ]
  },
  {
   "cell_type": "code",
   "execution_count": 13,
   "metadata": {},
   "outputs": [],
   "source": [
    "def dcran(points):\n",
    "    global cordmap, i_neighbors_dict, tree, G\n",
    "    tree, G = build(points)\n",
    "\n",
    "    for k in range(math.ceil(log(len(points)))):\n",
    "        components = list(nx.connected_components(G))\n",
    "        if len(components) == 1:\n",
    "            break\n",
    "        for component in components:\n",
    "            for pointi in component:\n",
    "                eudis, pointj = i_neighbors_dict[pointi][k]\n",
    "                if pointj in component:\n",
    "                    continue\n",
    "\n",
    "                G.add_edge(pointi, pointj, weight=eudis)\n",
    "    print(len(list(nx.connected_components(G))))"
   ]
  },
  {
   "cell_type": "code",
   "execution_count": 14,
   "metadata": {},
   "outputs": [
    {
     "name": "stdout",
     "output_type": "stream",
     "text": [
      "max dis :  10\n",
      "1\n"
     ]
    }
   ],
   "source": [
    "dcran(points)"
   ]
  },
  {
   "cell_type": "code",
   "execution_count": 15,
   "metadata": {},
   "outputs": [
    {
     "name": "stdout",
     "output_type": "stream",
     "text": [
      "The centroid of the component is [-7.0429783  -0.02059707]\n"
     ]
    }
   ],
   "source": [
    "import numpy as np\n",
    "\n",
    "centroids = []\n",
    "components = list(nx.connected_components(G))\n",
    "\n",
    "for component in components:\n",
    "    points = np.array(list(component))\n",
    "    centroid = points.mean(axis=0)\n",
    "    centroids.append(centroid)\n",
    "    print(f\"The centroid of the component is {centroid}\")"
   ]
  },
  {
   "cell_type": "code",
   "execution_count": 16,
   "metadata": {},
   "outputs": [],
   "source": [
    "from scipy.spatial import distance\n",
    "\n",
    "# Assuming centroids is already defined as shown in previous steps\n",
    "centroids_x = sorted(enumerate(centroids), key=lambda x: x[1][0])\n",
    "centroids_y = sorted(enumerate(centroids), key=lambda x: x[1][1])\n",
    "\n",
    "tot_dis_x = 0\n",
    "tot_dis_y = 0\n",
    "\n",
    "for i in range(len(centroids_x) - 1):\n",
    "    tot_dis_x += distance.euclidean(centroids_x[i][1], centroids_x[i + 1][1])\n",
    "    tot_dis_y += distance.euclidean(centroids_y[i][1], centroids_y[i + 1][1])\n",
    "\n",
    "if tot_dis_x > tot_dis_y:\n",
    "    sorted_indices = [index for index, _ in centroids_y]\n",
    "else:\n",
    "    sorted_indices = [index for index, _ in centroids_x]\n",
    "\n",
    "# sorted_indices will contain the indices of centroids, ordered by the selected sorting criterion"
   ]
  },
  {
   "cell_type": "code",
   "execution_count": 17,
   "metadata": {},
   "outputs": [],
   "source": [
    "from scipy.spatial import distance\n",
    "\n",
    "def get_closest_points(c1, c2):\n",
    "    points = np.array(list(c1))\n",
    "    centroid = points.mean(axis=0)\n",
    "\n",
    "    # Compute the distances between the centroid and each point in c2\n",
    "    distances = distance.cdist([centroid], c2)\n",
    "\n",
    "    # Get the index of the closest point\n",
    "    p2 = c2[np.argmin(distances)]\n",
    "    distances_to_c1 = distance.cdist([p2], c1)[0]\n",
    "    p1 = c1[np.argmin(distances_to_c1)]\n",
    "    # Return the closest point\n",
    "    return (p1 , p2)"
   ]
  },
  {
   "cell_type": "code",
   "execution_count": 18,
   "metadata": {},
   "outputs": [],
   "source": [
    "\n",
    "for i in range(len(sorted_indices) - 1):\n",
    "    # Get the components corresponding to the current and next centroid in the sorted list\n",
    "    component_a = components[sorted_indices[i]]\n",
    "    component_b = components[sorted_indices[i + 1]]\n",
    "\n",
    "    # Find the closest points between component_a and component_b\n",
    "    point_a, point_b = get_closest_points(component_a, component_b)\n",
    "\n",
    "    # Assuming a function add_edge(point_a, point_b) that adds an edge between two points\n",
    "    G.add_edge(point_a, point_b)\n",
    "\n",
    "    print(\n",
    "        f\"Connected component {sorted_indices[i]} to component {sorted_indices[i+1]} through points {point_a} and {point_b}\"\n",
    "    )"
   ]
  },
  {
   "cell_type": "code",
   "execution_count": 19,
   "metadata": {},
   "outputs": [],
   "source": [
    "mst = nx.minimum_spanning_tree(G, algorithm=\"prim\", weight=\"weight\")"
   ]
  },
  {
   "cell_type": "code",
   "execution_count": null,
   "metadata": {},
   "outputs": [],
   "source": []
  },
  {
   "cell_type": "code",
   "execution_count": 20,
   "metadata": {},
   "outputs": [
    {
     "name": "stdout",
     "output_type": "stream",
     "text": [
      "1.1241521835327148\n"
     ]
    }
   ],
   "source": [
    "dcran_end_time = time.time()\n",
    "dcran_elapsed_time = dcran_end_time - dcran_start_time\n",
    "print(dcran_elapsed_time)"
   ]
  },
  {
   "cell_type": "code",
   "execution_count": 21,
   "metadata": {},
   "outputs": [],
   "source": [
    "stmst_start_time = time.time()"
   ]
  },
  {
   "cell_type": "code",
   "execution_count": 22,
   "metadata": {},
   "outputs": [],
   "source": [
    "\n",
    "\n",
    "\n",
    "def calculate_distance(point1, point2):\n",
    "    return math.sqrt((point2[0] - point1[0]) ** 2 + (point2[1] - point1[1]) ** 2)\n",
    "\n",
    "\n",
    "def create_distance_matrix(points):\n",
    "    n = len(points)\n",
    "    distance_matrix = [[0 for _ in range(n)] for _ in range(n)]\n",
    "    for i in range(n):\n",
    "        for j in range(i + 1, n):\n",
    "            distance = calculate_distance(points[i], points[j])\n",
    "            distance_matrix[i][j] = distance\n",
    "            distance_matrix[j][i] = distance\n",
    "    return distance_matrix\n",
    "\n",
    "\n",
    "def primMST(graph):\n",
    "    num_vertices = len(graph)\n",
    "    key = [float(\"inf\")] * num_vertices\n",
    "    parent = [-1] * num_vertices\n",
    "    mstSet = [False] * num_vertices\n",
    "    key[0] = 0\n",
    "\n",
    "    for cout in range(num_vertices):\n",
    "        u = minKey(key, mstSet)\n",
    "        mstSet[u] = True\n",
    "        for v in range(num_vertices):\n",
    "            if 0 < graph[u][v] < key[v] and mstSet[v] is False:\n",
    "                key[v] = graph[u][v]\n",
    "                parent[v] = u\n",
    "    return parent\n",
    "\n",
    "\n",
    "def minKey(key, mstSet):\n",
    "    min = float(\"inf\")\n",
    "    min_index = -1\n",
    "    for v in range(len(key)):\n",
    "        if key[v] < min and not mstSet[v]:\n",
    "            min, min_index = key[v], v\n",
    "    return min_index\n",
    "\n",
    "\n",
    "# Example list of points\n",
    "\n",
    "# Create the distance matrix\n",
    "distance_matrix = create_distance_matrix(points)\n",
    "\n",
    "# Generate MST using Prim's algorithm\n",
    "mst = primMST(distance_matrix)\n",
    "\n",
    "# Print the edges in the MST\n"
   ]
  },
  {
   "cell_type": "code",
   "execution_count": 23,
   "metadata": {},
   "outputs": [
    {
     "name": "stdout",
     "output_type": "stream",
     "text": [
      "75.49475121498108\n"
     ]
    }
   ],
   "source": [
    "stmst_end_time = time.time()\n",
    "stmst_elapsed_time = stmst_end_time - stmst_start_time\n",
    "print(stmst_elapsed_time)   "
   ]
  },
  {
   "cell_type": "code",
   "execution_count": 24,
   "metadata": {},
   "outputs": [
    {
     "data": {
      "text/plain": [
       "67.15705606489537"
      ]
     },
     "execution_count": 24,
     "metadata": {},
     "output_type": "execute_result"
    }
   ],
   "source": [
    "stmst_elapsed_time/dcran_elapsed_time"
   ]
  },
  {
   "cell_type": "code",
   "execution_count": null,
   "metadata": {},
   "outputs": [],
   "source": []
  }
 ],
 "metadata": {
  "kernelspec": {
   "display_name": "gpy12",
   "language": "python",
   "name": "python3"
  },
  "language_info": {
   "codemirror_mode": {
    "name": "ipython",
    "version": 3
   },
   "file_extension": ".py",
   "mimetype": "text/x-python",
   "name": "python",
   "nbconvert_exporter": "python",
   "pygments_lexer": "ipython3",
   "version": "3.12.2"
  }
 },
 "nbformat": 4,
 "nbformat_minor": 2
}
