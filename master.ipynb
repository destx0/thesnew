{
 "cells": [
  {
   "cell_type": "code",
   "execution_count": 11,
   "metadata": {},
   "outputs": [],
   "source": [
    "import matplotlib.pyplot as plt\n",
    "import networkx as nx\n",
    "import numpy as np\n",
    "from sklearn.datasets import make_blobs, make_circles\n",
    "import random\n",
    "import json\n",
    "import math\n",
    "import time\n",
    "from tabulate import tabulate\n",
    "from math import *\n",
    "from kdtreen import *\n",
    "from utils import *"
   ]
  },
  {
   "cell_type": "code",
   "execution_count": 12,
   "metadata": {},
   "outputs": [],
   "source": [
    "savefile = \"mst_datatest.json\"\n",
    "to_plot = False\n",
    "no_points = 10000\n",
    "no_centres = 3"
   ]
  },
  {
   "cell_type": "code",
   "execution_count": 13,
   "metadata": {},
   "outputs": [],
   "source": [
    "if no_points > 999:\n",
    "    to_plot = False"
   ]
  },
  {
   "cell_type": "code",
   "execution_count": 14,
   "metadata": {},
   "outputs": [
    {
     "name": "stdout",
     "output_type": "stream",
     "text": [
      "10000\n"
     ]
    }
   ],
   "source": [
    "\n",
    "X, Y = make_blobs(n_samples=no_points, centers=no_centres)\n",
    "points = list(set([(x, y) for x, y in X]))\n",
    "# points = list(set([(round(x, 1), round(y, 1)) for x, y in X]))\n",
    "print(len(points))"
   ]
  },
  {
   "cell_type": "code",
   "execution_count": 15,
   "metadata": {},
   "outputs": [],
   "source": [
    "dcran_start_time = time.time()\n",
    "i_neighbors_dict = {}\n",
    "tree = KDTree()\n",
    "G = nx.Graph()"
   ]
  },
  {
   "cell_type": "code",
   "execution_count": 16,
   "metadata": {},
   "outputs": [],
   "source": [
    "def build(points):\n",
    "    global cordmap, i_neighbors_dict, tree, G\n",
    "    tree.root = tree.build(points)\n",
    "    limit_dist = math.ceil(log(len(points)))\n",
    "\n",
    "    G.add_nodes_from(points)\n",
    "    for point in points:\n",
    "        i_neighbors_dict[point] = i_neighbors(tree, point, limit_dist)\n",
    "    return tree, G"
   ]
  },
  {
   "cell_type": "code",
   "execution_count": 17,
   "metadata": {},
   "outputs": [],
   "source": [
    "def dcran(points):\n",
    "    global cordmap, i_neighbors_dict, tree, G\n",
    "    tree, G = build(points)\n",
    "\n",
    "    for k in range(math.ceil(log(len(points)))):\n",
    "        components = list(nx.connected_components(G))\n",
    "        if len(components) == 1:\n",
    "            break\n",
    "        for component in components:\n",
    "            for pointi in component:\n",
    "                eudis, pointj = i_neighbors_dict[pointi][k]\n",
    "                if pointj in component:\n",
    "                    continue\n",
    "\n",
    "                G.add_edge(pointi, pointj, weight=eudis)\n",
    "    print(len(list(nx.connected_components(G))))"
   ]
  },
  {
   "cell_type": "code",
   "execution_count": 18,
   "metadata": {},
   "outputs": [
    {
     "name": "stdout",
     "output_type": "stream",
     "text": [
      "2\n"
     ]
    }
   ],
   "source": [
    "dcran(points)"
   ]
  },
  {
   "cell_type": "code",
   "execution_count": 19,
   "metadata": {},
   "outputs": [],
   "source": [
    "mst = nx.minimum_spanning_tree(G, algorithm=\"prim\", weight=\"weight\")"
   ]
  },
  {
   "cell_type": "code",
   "execution_count": 20,
   "metadata": {},
   "outputs": [
    {
     "name": "stdout",
     "output_type": "stream",
     "text": [
      "1.375403881072998\n"
     ]
    }
   ],
   "source": [
    "dcran_end_time = time.time()\n",
    "dcran_elapsed_time = dcran_end_time - dcran_start_time\n",
    "print(dcran_elapsed_time)"
   ]
  }
 ],
 "metadata": {
  "kernelspec": {
   "display_name": "gpy12",
   "language": "python",
   "name": "python3"
  },
  "language_info": {
   "codemirror_mode": {
    "name": "ipython",
    "version": 3
   },
   "file_extension": ".py",
   "mimetype": "text/x-python",
   "name": "python",
   "nbconvert_exporter": "python",
   "pygments_lexer": "ipython3",
   "version": "3.12.2"
  }
 },
 "nbformat": 4,
 "nbformat_minor": 2
}
